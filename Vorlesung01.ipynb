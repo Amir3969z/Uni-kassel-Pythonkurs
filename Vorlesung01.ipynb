{
  "nbformat": 4,
  "nbformat_minor": 0,
  "metadata": {
    "colab": {
      "name": "Vorlesung01.ipynb",
      "provenance": [],
      "collapsed_sections": [],
      "include_colab_link": true
    },
    "kernelspec": {
      "name": "python3",
      "display_name": "Python 3"
    },
    "language_info": {
      "name": "python"
    }
  },
  "cells": [
    {
      "cell_type": "markdown",
      "metadata": {
        "id": "view-in-github",
        "colab_type": "text"
      },
      "source": [
        "<a href=\"https://colab.research.google.com/github/Amir3969z/Uni-kassel-Pythonkurs/blob/main/Vorlesung01.ipynb\" target=\"_parent\"><img src=\"https://colab.research.google.com/assets/colab-badge.svg\" alt=\"Open In Colab\"/></a>"
      ]
    },
    {
      "cell_type": "code",
      "metadata": {
        "colab": {
          "base_uri": "https://localhost:8080/"
        },
        "id": "geF3lV7kO9yi",
        "outputId": "73a9bd5c-481c-436f-a5d0-34f418234d89"
      },
      "source": [
        "20"
      ],
      "execution_count": null,
      "outputs": [
        {
          "output_type": "execute_result",
          "data": {
            "text/plain": [
              "20"
            ]
          },
          "metadata": {
            "tags": []
          },
          "execution_count": 7
        }
      ]
    },
    {
      "cell_type": "code",
      "metadata": {
        "colab": {
          "base_uri": "https://localhost:8080/"
        },
        "id": "CXbjTqxYSbAa",
        "outputId": "1b998533-fa53-4808-e852-0a371e0f2256"
      },
      "source": [
        "-10.5"
      ],
      "execution_count": null,
      "outputs": [
        {
          "output_type": "execute_result",
          "data": {
            "text/plain": [
              "-10.5"
            ]
          },
          "metadata": {
            "tags": []
          },
          "execution_count": 8
        }
      ]
    },
    {
      "cell_type": "markdown",
      "metadata": {
        "id": "Op9ipuicSdZx"
      },
      "source": [
        "# Datentypen"
      ]
    },
    {
      "cell_type": "code",
      "metadata": {
        "colab": {
          "base_uri": "https://localhost:8080/"
        },
        "id": "6XnhOmpuQYFF",
        "outputId": "2b12a65f-e0ab-45d2-a563-47d23969f40f"
      },
      "source": [
        "20+20"
      ],
      "execution_count": null,
      "outputs": [
        {
          "output_type": "execute_result",
          "data": {
            "text/plain": [
              "40"
            ]
          },
          "metadata": {
            "tags": []
          },
          "execution_count": 9
        }
      ]
    },
    {
      "cell_type": "code",
      "metadata": {
        "colab": {
          "base_uri": "https://localhost:8080/"
        },
        "id": "v0WP3ogeQeA6",
        "outputId": "93e3e653-7f6d-4820-c838-d9d2f96e0bf8"
      },
      "source": [
        "-10-5.5"
      ],
      "execution_count": null,
      "outputs": [
        {
          "output_type": "execute_result",
          "data": {
            "text/plain": [
              "-15.5"
            ]
          },
          "metadata": {
            "tags": []
          },
          "execution_count": 10
        }
      ]
    },
    {
      "cell_type": "code",
      "metadata": {
        "colab": {
          "base_uri": "https://localhost:8080/"
        },
        "id": "M6C_8GV-Qgs3",
        "outputId": "dda919c2-4e74-43b6-cb5b-94d8e6283a1c"
      },
      "source": [
        "-10-5-1/2"
      ],
      "execution_count": null,
      "outputs": [
        {
          "output_type": "execute_result",
          "data": {
            "text/plain": [
              "-15.5"
            ]
          },
          "metadata": {
            "tags": []
          },
          "execution_count": 11
        }
      ]
    },
    {
      "cell_type": "code",
      "metadata": {
        "colab": {
          "base_uri": "https://localhost:8080/"
        },
        "id": "7K5CcZUuQmJm",
        "outputId": "1437a36d-532a-4d17-df92-6a53122384ea"
      },
      "source": [
        "-10+2*(10+10)"
      ],
      "execution_count": null,
      "outputs": [
        {
          "output_type": "execute_result",
          "data": {
            "text/plain": [
              "30"
            ]
          },
          "metadata": {
            "tags": []
          },
          "execution_count": 12
        }
      ]
    },
    {
      "cell_type": "code",
      "metadata": {
        "colab": {
          "base_uri": "https://localhost:8080/"
        },
        "id": "5pyVtts_TxGy",
        "outputId": "49661581-5c92-41d1-e818-affacccd1de0"
      },
      "source": [
        "10.01e4"
      ],
      "execution_count": null,
      "outputs": [
        {
          "output_type": "execute_result",
          "data": {
            "text/plain": [
              "100100.0"
            ]
          },
          "metadata": {
            "tags": []
          },
          "execution_count": 13
        }
      ]
    },
    {
      "cell_type": "code",
      "metadata": {
        "colab": {
          "base_uri": "https://localhost:8080/"
        },
        "id": "EHi6Kf2KQxg9",
        "outputId": "a00b4001-93a3-4167-a32e-714bd9110af8"
      },
      "source": [
        "import sys\n",
        "\n",
        "a_variable = 0\n",
        "int_size = sys.getsizeof(a_variable)\n",
        "print(int_size, \"bytes\")"
      ],
      "execution_count": null,
      "outputs": [
        {
          "output_type": "stream",
          "text": [
            "24 bytes\n"
          ],
          "name": "stdout"
        }
      ]
    },
    {
      "cell_type": "code",
      "metadata": {
        "colab": {
          "base_uri": "https://localhost:8080/"
        },
        "id": "wsCitxImVFq7",
        "outputId": "7a73483f-54ed-40e7-f011-c346b25a0a8e"
      },
      "source": [
        "a_variable = 123456789\n",
        "int_size = sys.getsizeof(a_variable)\n",
        "print(int_size, \"bytes\")"
      ],
      "execution_count": null,
      "outputs": [
        {
          "output_type": "stream",
          "text": [
            "44 bytes\n"
          ],
          "name": "stdout"
        }
      ]
    },
    {
      "cell_type": "code",
      "metadata": {
        "colab": {
          "base_uri": "https://localhost:8080/"
        },
        "id": "BeJb21KR1F2h",
        "outputId": "ac55ce1a-06d7-404d-b831-6aa3d9753714"
      },
      "source": [
        "a_variable = 123456789.123456789\n",
        "float_size = sys.getsizeof(a_variable)\n",
        "print(a_variable)\n",
        "print(float_size, \"bytes\")"
      ],
      "execution_count": null,
      "outputs": [
        {
          "output_type": "stream",
          "text": [
            "123456789.12345679\n",
            "24 bytes\n"
          ],
          "name": "stdout"
        }
      ]
    },
    {
      "cell_type": "code",
      "metadata": {
        "colab": {
          "base_uri": "https://localhost:8080/"
        },
        "id": "sNrBQE9I1Jix",
        "outputId": "77c62888-2e05-48bc-9cfc-caf9c155220d"
      },
      "source": [
        "a_variable = 123456789123456789.123456789\n",
        "float_size = sys.getsizeof(a_variable)\n",
        "print(a_variable)\n",
        "print(float_size, \"bytes\")"
      ],
      "execution_count": null,
      "outputs": [
        {
          "output_type": "stream",
          "text": [
            "1.2345678912345678e+17\n",
            "24 bytes\n"
          ],
          "name": "stdout"
        }
      ]
    },
    {
      "cell_type": "code",
      "metadata": {
        "colab": {
          "base_uri": "https://localhost:8080/"
        },
        "id": "iWXVYGi3s8np",
        "outputId": "7701620e-e590-4e13-b671-ee1f3905da68"
      },
      "source": [
        "a_variable = 10\n",
        "print(type(a_variable))"
      ],
      "execution_count": null,
      "outputs": [
        {
          "output_type": "stream",
          "text": [
            "<class 'int'>\n"
          ],
          "name": "stdout"
        }
      ]
    },
    {
      "cell_type": "code",
      "metadata": {
        "colab": {
          "base_uri": "https://localhost:8080/"
        },
        "id": "jIJUthjVwjKB",
        "outputId": "d9fcacef-0d7c-42d3-dc29-691fb5152951"
      },
      "source": [
        "a_variable = 1.5\n",
        "print(type(a_variable))"
      ],
      "execution_count": null,
      "outputs": [
        {
          "output_type": "stream",
          "text": [
            "<class 'float'>\n"
          ],
          "name": "stdout"
        }
      ]
    },
    {
      "cell_type": "code",
      "metadata": {
        "colab": {
          "base_uri": "https://localhost:8080/"
        },
        "id": "4lrSCmWixAQf",
        "outputId": "508defe1-72f5-4393-da5e-be82f55a2049"
      },
      "source": [
        "a_variable = 10\n",
        "a_variable = \"Dies ist eine Zeichenkette\"\n",
        "print(type(a_variable))"
      ],
      "execution_count": null,
      "outputs": [
        {
          "output_type": "stream",
          "text": [
            "<class 'str'>\n"
          ],
          "name": "stdout"
        }
      ]
    },
    {
      "cell_type": "code",
      "metadata": {
        "colab": {
          "base_uri": "https://localhost:8080/"
        },
        "id": "s-B0AX3YxbF2",
        "outputId": "8229ac5b-827c-4740-8b42-4dbee152b3de"
      },
      "source": [
        "a_variable = True\n",
        "print(type(a_variable))"
      ],
      "execution_count": null,
      "outputs": [
        {
          "output_type": "stream",
          "text": [
            "<class 'bool'>\n"
          ],
          "name": "stdout"
        }
      ]
    },
    {
      "cell_type": "code",
      "metadata": {
        "colab": {
          "base_uri": "https://localhost:8080/"
        },
        "id": "redmSbeoH_T2",
        "outputId": "c54c64ff-4b50-4b05-c9c9-a33ab9925703"
      },
      "source": [
        "a_variable = input(\"Welche Zahl soll quadriert werden? \")\n",
        "a_variable = int(a_variable)\n",
        "print(a_variable*a_variable)"
      ],
      "execution_count": null,
      "outputs": [
        {
          "output_type": "stream",
          "text": [
            "Welche Zahl soll quadriert werden? 10\n",
            "100\n"
          ],
          "name": "stdout"
        }
      ]
    },
    {
      "cell_type": "code",
      "metadata": {
        "colab": {
          "base_uri": "https://localhost:8080/"
        },
        "id": "1qVtWSuixivz",
        "outputId": "674f300a-e7be-45e5-8264-f92ce5bff8fd"
      },
      "source": [
        "a_variable = [1, 10, 20]\n",
        "print(type(a_variable))"
      ],
      "execution_count": null,
      "outputs": [
        {
          "output_type": "stream",
          "text": [
            "<class 'list'>\n"
          ],
          "name": "stdout"
        }
      ]
    },
    {
      "cell_type": "code",
      "metadata": {
        "colab": {
          "base_uri": "https://localhost:8080/"
        },
        "id": "ypfpvc0rychQ",
        "outputId": "00767869-3c99-401c-d106-69f44422c7f5"
      },
      "source": [
        "print(a_variable[1])"
      ],
      "execution_count": null,
      "outputs": [
        {
          "output_type": "stream",
          "text": [
            "10\n"
          ],
          "name": "stdout"
        }
      ]
    },
    {
      "cell_type": "code",
      "metadata": {
        "colab": {
          "base_uri": "https://localhost:8080/"
        },
        "id": "pMGob3zoyhE4",
        "outputId": "babfb3cd-6715-454d-b481-7a06f386d53d"
      },
      "source": [
        "a_variable = [0.1, 10, \"Hallo Welt\"]\n",
        "print(a_variable)\n",
        "\n",
        "a_variable = a_variable + [\"nochmal Hallo\", \"Tschüss\"]\n",
        "print(a_variable)"
      ],
      "execution_count": null,
      "outputs": [
        {
          "output_type": "stream",
          "text": [
            "[0.1, 10, 'Hallo Welt']\n",
            "[0.1, 10, 'Hallo Welt', 'nochmal Hallo', 'Tschüss']\n"
          ],
          "name": "stdout"
        }
      ]
    },
    {
      "cell_type": "markdown",
      "metadata": {
        "id": "xnLs8QBOdVrJ"
      },
      "source": [
        "# Arithmetische und logische Ausdrücke"
      ]
    },
    {
      "cell_type": "code",
      "metadata": {
        "colab": {
          "base_uri": "https://localhost:8080/"
        },
        "id": "2nEGf9wW0GJL",
        "outputId": "80be6c78-e625-4da3-aaaa-d3c4dcab8ec3"
      },
      "source": [
        "var1 = 40\n",
        "var2 = 60\n",
        "result = (var1)/(var1 + var2)\n",
        "print(result)"
      ],
      "execution_count": null,
      "outputs": [
        {
          "output_type": "stream",
          "text": [
            "0.4\n"
          ],
          "name": "stdout"
        }
      ]
    },
    {
      "cell_type": "code",
      "metadata": {
        "colab": {
          "base_uri": "https://localhost:8080/"
        },
        "id": "0V5G9597fpVB",
        "outputId": "e0f8eaef-df4e-4352-8e6b-5d9af913fbfb"
      },
      "source": [
        "print(\"10 durch 3, abrunden:\", 10//3)\n",
        "print(\"Rest bei 10 durch 3:\", 10%3)\n",
        "print(\"3 hoch 3:\", 3**3)"
      ],
      "execution_count": null,
      "outputs": [
        {
          "output_type": "stream",
          "text": [
            "10 durch 3, abrunden: 3\n",
            "Rest bei 10 durch 3: 1\n",
            "3 hoch 3: 27\n"
          ],
          "name": "stdout"
        }
      ]
    },
    {
      "cell_type": "code",
      "metadata": {
        "colab": {
          "base_uri": "https://localhost:8080/"
        },
        "id": "IuIjmYGmjC3c",
        "outputId": "7663ae31-5d7d-48eb-d425-3b8256726a80"
      },
      "source": [
        "import math\n",
        "\n",
        "result = math.sin(10)\n",
        "print(result)"
      ],
      "execution_count": null,
      "outputs": [
        {
          "output_type": "stream",
          "text": [
            "-0.5440211108893698\n"
          ],
          "name": "stdout"
        }
      ]
    },
    {
      "cell_type": "code",
      "metadata": {
        "colab": {
          "base_uri": "https://localhost:8080/"
        },
        "id": "F9nCzKR2gWYO",
        "outputId": "30d285e8-b32f-4985-94fc-f413079f775c"
      },
      "source": [
        "from math import sqrt\n",
        "\n",
        "print(sqrt(9))"
      ],
      "execution_count": null,
      "outputs": [
        {
          "output_type": "stream",
          "text": [
            "3.0\n"
          ],
          "name": "stdout"
        }
      ]
    },
    {
      "cell_type": "code",
      "metadata": {
        "colab": {
          "base_uri": "https://localhost:8080/"
        },
        "id": "0TWRGEeceBs9",
        "outputId": "94b30075-796a-4082-ccb3-e00a1974327b"
      },
      "source": [
        "# Kleiner?\n",
        "result = var1 < var2\n",
        "print(result)"
      ],
      "execution_count": null,
      "outputs": [
        {
          "output_type": "stream",
          "text": [
            "True\n"
          ],
          "name": "stdout"
        }
      ]
    },
    {
      "cell_type": "code",
      "metadata": {
        "colab": {
          "base_uri": "https://localhost:8080/"
        },
        "id": "tRiFxi2eezqm",
        "outputId": "8da59193-d7d0-4c82-9e32-7763bb0abbc5"
      },
      "source": [
        "# Kleiner gleich?\n",
        "result = var1 <= 39\n",
        "print(result)"
      ],
      "execution_count": null,
      "outputs": [
        {
          "output_type": "stream",
          "text": [
            "False\n"
          ],
          "name": "stdout"
        }
      ]
    },
    {
      "cell_type": "code",
      "metadata": {
        "colab": {
          "base_uri": "https://localhost:8080/"
        },
        "id": "T4yMBWbNeZUv",
        "outputId": "a90568fb-1577-41fb-a826-a153ddfe35c4"
      },
      "source": [
        "# Gleich?\n",
        "result = var1 == (40*2)/2\n",
        "print(result)"
      ],
      "execution_count": null,
      "outputs": [
        {
          "output_type": "stream",
          "text": [
            "True\n"
          ],
          "name": "stdout"
        }
      ]
    },
    {
      "cell_type": "code",
      "metadata": {
        "colab": {
          "base_uri": "https://localhost:8080/"
        },
        "id": "bcLIzc29eh2H",
        "outputId": "e8ce0c2f-0975-4078-b03b-b716cd37fbeb"
      },
      "source": [
        "# Ungleich?\n",
        "result = var1 != 40\n",
        "print(result)"
      ],
      "execution_count": null,
      "outputs": [
        {
          "output_type": "stream",
          "text": [
            "False\n"
          ],
          "name": "stdout"
        }
      ]
    },
    {
      "cell_type": "code",
      "metadata": {
        "colab": {
          "base_uri": "https://localhost:8080/"
        },
        "id": "kllSvoTeemYL",
        "outputId": "c2518726-c333-4e67-8933-c53f6fb24271"
      },
      "source": [
        "# Nicht ...?\n",
        "result = not(var1 == (40*2)/2)\n",
        "print(result)"
      ],
      "execution_count": null,
      "outputs": [
        {
          "output_type": "stream",
          "text": [
            "False\n"
          ],
          "name": "stdout"
        }
      ]
    },
    {
      "cell_type": "code",
      "metadata": {
        "colab": {
          "base_uri": "https://localhost:8080/"
        },
        "id": "ZPgZr_3IfWRP",
        "outputId": "8fc3d86d-b70a-407f-eef5-f469953c02cd"
      },
      "source": [
        "# ... und ... ?\n",
        "print(var1 < var2 and var2 > 60)"
      ],
      "execution_count": null,
      "outputs": [
        {
          "output_type": "stream",
          "text": [
            "False\n"
          ],
          "name": "stdout"
        }
      ]
    },
    {
      "cell_type": "code",
      "metadata": {
        "colab": {
          "base_uri": "https://localhost:8080/"
        },
        "id": "Qe_hWBG4fmL8",
        "outputId": "be629ea8-1a8d-49a3-930a-a2cd03cee91d"
      },
      "source": [
        "# ... oder ... ?\n",
        "print(var1 < var2 or var2 > 60)"
      ],
      "execution_count": null,
      "outputs": [
        {
          "output_type": "stream",
          "text": [
            "True\n"
          ],
          "name": "stdout"
        }
      ]
    },
    {
      "cell_type": "code",
      "metadata": {
        "colab": {
          "base_uri": "https://localhost:8080/"
        },
        "id": "zxKHW1bWfr9b",
        "outputId": "620b1ff7-0a27-484c-b5dc-07693629dee5"
      },
      "source": [
        "# Operatorrangfolge: Zuerst and, dann or, außer es werden Klammern gesetzt.\n",
        "print(var1 < var2 and var2 > 50 or var2 < 40)"
      ],
      "execution_count": null,
      "outputs": [
        {
          "output_type": "stream",
          "text": [
            "True\n"
          ],
          "name": "stdout"
        }
      ]
    },
    {
      "cell_type": "markdown",
      "metadata": {
        "id": "G2e9Pnvapedz"
      },
      "source": [
        "# Kontrollstrukturen\n",
        "\n",
        "**if, elif, else**\n"
      ]
    },
    {
      "cell_type": "code",
      "metadata": {
        "colab": {
          "base_uri": "https://localhost:8080/"
        },
        "id": "E1hgTkdjgMG5",
        "outputId": "aee38b4c-9ff7-4381-e3c4-d36fd3dac5ba"
      },
      "source": [
        "var1 = 60\n",
        "\n",
        "if var1 == 60:\n",
        "  print(var1)"
      ],
      "execution_count": null,
      "outputs": [
        {
          "output_type": "stream",
          "text": [
            "60\n"
          ],
          "name": "stdout"
        }
      ]
    },
    {
      "cell_type": "code",
      "metadata": {
        "colab": {
          "base_uri": "https://localhost:8080/"
        },
        "id": "zSc026voqk2r",
        "outputId": "f2214f41-a784-415e-89f0-5bf078ba936c"
      },
      "source": [
        "var1 = 50\n",
        "\n",
        "if var1 == 60:\n",
        "  print(var1)\n",
        "  print(\"If-Ausgabe ist erfolgt, da die Bedingung erfüllt ist\")\n",
        "\n",
        "print(\"Außerhalb des If-Blocks\")"
      ],
      "execution_count": null,
      "outputs": [
        {
          "output_type": "stream",
          "text": [
            "Außerhalb des If-Blocks\n"
          ],
          "name": "stdout"
        }
      ]
    },
    {
      "cell_type": "code",
      "metadata": {
        "colab": {
          "base_uri": "https://localhost:8080/"
        },
        "id": "GeX0pi1YrwjH",
        "outputId": "3bcde428-4f5b-430b-bfe3-5bfc9b14ea1f"
      },
      "source": [
        "var1 = 50\n",
        "\n",
        "if var1 < 50:\n",
        "  print(\"Wert ist kleiner\")\n",
        "\n",
        "if var1 >= 50:\n",
        "  print(\"Wert ist nicht kleiner\")"
      ],
      "execution_count": null,
      "outputs": [
        {
          "output_type": "stream",
          "text": [
            "Wert ist nicht kleiner\n"
          ],
          "name": "stdout"
        }
      ]
    },
    {
      "cell_type": "code",
      "metadata": {
        "colab": {
          "base_uri": "https://localhost:8080/"
        },
        "id": "43lgWOML-l82",
        "outputId": "fcccdceb-f2dd-49ef-8dd8-1447c8c6e5d6"
      },
      "source": [
        "var1 = 50\n",
        "\n",
        "if var1 < 50:\n",
        "  print(\"Wert ist kleiner\")\n",
        "else:\n",
        "  print(\"Wert ist nicht kleiner\")"
      ],
      "execution_count": null,
      "outputs": [
        {
          "output_type": "stream",
          "text": [
            "Wert ist nicht kleiner\n"
          ],
          "name": "stdout"
        }
      ]
    },
    {
      "cell_type": "code",
      "metadata": {
        "colab": {
          "base_uri": "https://localhost:8080/"
        },
        "id": "5N6IWv4OXB2K",
        "outputId": "cd593131-97c8-4005-beb7-d08364f4157a"
      },
      "source": [
        "var1 = 50\n",
        "klein = 10\n",
        "mittel = 50\n",
        "\n",
        "if var1 <= klein:\n",
        "  print(\"Wert ist klein\")\n",
        "elif var1 <= mittel:\n",
        "  print(\"Wert ist mittelgroß\")\n",
        "elif var1 > mittel:\n",
        "  print(\"Wert ist groß\")\n",
        "else:\n",
        "  print(\"Wert konnte nicht verglichen werden\")\n",
        "\n",
        "print(\"Fertig\")"
      ],
      "execution_count": null,
      "outputs": [
        {
          "output_type": "stream",
          "text": [
            "Wert ist mittelgroß\n",
            "Fertig\n"
          ],
          "name": "stdout"
        }
      ]
    },
    {
      "cell_type": "markdown",
      "metadata": {
        "id": "6kyxAB4uesQi"
      },
      "source": [
        "**Bedingte Ausdrücke**\n"
      ]
    },
    {
      "cell_type": "code",
      "metadata": {
        "colab": {
          "base_uri": "https://localhost:8080/",
          "height": 35
        },
        "id": "kW3hSr0dffL5",
        "outputId": "f0bd3851-ad11-4b11-9338-3de5f44b1fb5"
      },
      "source": [
        "# DieseRückgabe if Bedingung else AlternativeRückgabe\n",
        "\"Hallo\" if 10 < 20 else \"Tschüss\""
      ],
      "execution_count": null,
      "outputs": [
        {
          "output_type": "execute_result",
          "data": {
            "application/vnd.google.colaboratory.intrinsic+json": {
              "type": "string"
            },
            "text/plain": [
              "'Hallo'"
            ]
          },
          "metadata": {
            "tags": []
          },
          "execution_count": 43
        }
      ]
    },
    {
      "cell_type": "code",
      "metadata": {
        "colab": {
          "base_uri": "https://localhost:8080/"
        },
        "id": "KB9UoraQfzYr",
        "outputId": "f4c4f00d-dc0e-4740-c974-028e7df25ea4"
      },
      "source": [
        "var1 = 100 if 10 < 20 else 0\n",
        "print(var1)"
      ],
      "execution_count": null,
      "outputs": [
        {
          "output_type": "stream",
          "text": [
            "100\n"
          ],
          "name": "stdout"
        }
      ]
    },
    {
      "cell_type": "code",
      "metadata": {
        "colab": {
          "base_uri": "https://localhost:8080/"
        },
        "id": "R3SPW4eSgCVv",
        "outputId": "a993fbd0-16fd-4c1a-cf9d-e91ba7d52029"
      },
      "source": [
        "print(\"Hallo\" if 10 < 20 else \"Tschüss\")"
      ],
      "execution_count": null,
      "outputs": [
        {
          "output_type": "stream",
          "text": [
            "Hallo\n"
          ],
          "name": "stdout"
        }
      ]
    },
    {
      "cell_type": "markdown",
      "metadata": {
        "id": "1RXcjzuPSDQY"
      },
      "source": [
        "**while**\n"
      ]
    },
    {
      "cell_type": "code",
      "metadata": {
        "colab": {
          "base_uri": "https://localhost:8080/"
        },
        "id": "Lv652-AMRnRQ",
        "outputId": "6b276f3d-f18a-4f17-f4a3-a86cf6098025"
      },
      "source": [
        "var1 = 10\n",
        "\n",
        "while var1 > 0:\n",
        "  print(var1)\n",
        "  var1 = var1 - 1\n",
        "\n",
        "print(\"Programm-Ende\")"
      ],
      "execution_count": null,
      "outputs": [
        {
          "output_type": "stream",
          "text": [
            "10\n",
            "9\n",
            "8\n",
            "7\n",
            "6\n",
            "5\n",
            "4\n",
            "3\n",
            "2\n",
            "1\n",
            "Programm-Ende\n"
          ],
          "name": "stdout"
        }
      ]
    },
    {
      "cell_type": "code",
      "metadata": {
        "colab": {
          "base_uri": "https://localhost:8080/"
        },
        "id": "KOB36rcrTlIh",
        "outputId": "37bec949-1c69-4f21-b3ad-175f6e585f16"
      },
      "source": [
        "var1 = 10\n",
        "\n",
        "while var1 > 0:\n",
        "  print(var1)\n",
        "  var1 -= 1\n",
        "\n",
        "print(\"Programm-Ende\")"
      ],
      "execution_count": null,
      "outputs": [
        {
          "output_type": "stream",
          "text": [
            "10\n",
            "9\n",
            "8\n",
            "7\n",
            "6\n",
            "5\n",
            "4\n",
            "3\n",
            "2\n",
            "1\n",
            "Programm-Ende\n"
          ],
          "name": "stdout"
        }
      ]
    },
    {
      "cell_type": "code",
      "metadata": {
        "colab": {
          "base_uri": "https://localhost:8080/"
        },
        "id": "L6ROUkBFUh9k",
        "outputId": "e20ced60-3b1d-4a78-eaf4-9b8129df52c7"
      },
      "source": [
        "password = \"TopSecret\"\n",
        "user_input = \"\"\n",
        "\n",
        "while user_input != password:\n",
        "  user_input = input(\"Passwort: \")\n",
        "\n",
        "print(\"Sie haben es geschafft!\")"
      ],
      "execution_count": null,
      "outputs": [
        {
          "output_type": "stream",
          "text": [
            "Passwort: TopSecret\n",
            "Sie haben es geschafft!\n"
          ],
          "name": "stdout"
        }
      ]
    },
    {
      "cell_type": "code",
      "metadata": {
        "colab": {
          "base_uri": "https://localhost:8080/"
        },
        "id": "9dBckU60T6-1",
        "outputId": "c4a1fa63-2c71-40f5-a3e8-5dbfc357bd15"
      },
      "source": [
        "password = \"TopSecret\"\n",
        "user_input = \"\"\n",
        "number_of_tries = 0\n",
        "\n",
        "while user_input != password and number_of_tries < 3:\n",
        "  user_input = input(\"Passwort: \")\n",
        "  number_of_tries += 1\n",
        "\n",
        "print(\"Sie haben es geschafft!\")"
      ],
      "execution_count": null,
      "outputs": [
        {
          "output_type": "stream",
          "text": [
            "Passwort: hjkhjk\n",
            "Passwort: dsasd\n",
            "Passwort: dsasa\n",
            "Sie haben es geschafft!\n"
          ],
          "name": "stdout"
        }
      ]
    },
    {
      "cell_type": "code",
      "metadata": {
        "colab": {
          "base_uri": "https://localhost:8080/"
        },
        "id": "iWbgHlgUeuxD",
        "outputId": "22bb29f8-46c6-48a0-9bef-019adf82e817"
      },
      "source": [
        "password = \"TopSecret\"\n",
        "user_input = \"\"\n",
        "number_of_tries = 0\n",
        "\n",
        "while user_input != password and number_of_tries < 3:\n",
        "  user_input = input(\"Passwort: \")\n",
        "  number_of_tries += 1\n",
        "\n",
        "if user_input == password:\n",
        "  print(\"Sie haben es geschafft!\")"
      ],
      "execution_count": null,
      "outputs": [
        {
          "output_type": "stream",
          "text": [
            "Passwort: TopSecret\n",
            "Sie haben es geschafft!\n"
          ],
          "name": "stdout"
        }
      ]
    },
    {
      "cell_type": "code",
      "metadata": {
        "id": "nmbTXj3XfP2J",
        "colab": {
          "base_uri": "https://localhost:8080/"
        },
        "outputId": "2cb3ff02-950e-474f-9334-a44864b826b4"
      },
      "source": [
        "password = \"TopSecret\"\n",
        "user_input = \"\"\n",
        "\n",
        "while user_input != password:\n",
        "  user_input = input(\"Passwort: \")\n",
        "  if user_input == \"exit\":\n",
        "    break\n",
        "\n",
        "print(\"Sie haben es geschafft!\")"
      ],
      "execution_count": null,
      "outputs": [
        {
          "output_type": "stream",
          "text": [
            "Passwort: dfsdfs\n",
            "Passwort: exit\n",
            "Sie haben es geschafft!\n"
          ],
          "name": "stdout"
        }
      ]
    },
    {
      "cell_type": "code",
      "metadata": {
        "colab": {
          "base_uri": "https://localhost:8080/"
        },
        "id": "I27juKTFzzpQ",
        "outputId": "fa56abaf-edb5-465a-be17-3b3883f284e1"
      },
      "source": [
        "password = \"TopSecret\"\n",
        "user_input = \"\"\n",
        "\n",
        "while user_input != password:\n",
        "  user_input = input(\"Passwort: \")\n",
        "  if user_input == \"exit\":\n",
        "    break\n",
        "else:\n",
        "  print(\"Sie haben es geschafft! Das korrekte Passwort wurde eingegeben. Schauen Sie sich die geheime Information an:\")\n",
        "  print(\"Die Antwort lautet: 42\")\n",
        "\n",
        "print(\"Das Programm wird nun beendet!\")"
      ],
      "execution_count": null,
      "outputs": [
        {
          "output_type": "stream",
          "text": [
            "Passwort: hjhjhj\n",
            "Passwort: fdsdfs\n",
            "Passwort: exit\n",
            "Das Programm wird nun beendet!\n"
          ],
          "name": "stdout"
        }
      ]
    },
    {
      "cell_type": "code",
      "metadata": {
        "colab": {
          "base_uri": "https://localhost:8080/"
        },
        "id": "Nfw5DBSkI0Zm",
        "outputId": "d6511ae1-dd92-4752-d4b1-50d688bda127"
      },
      "source": [
        "user_input = \"\"\n",
        "\n",
        "while True:\n",
        "  user_input = input(\"Geben Sie meine Lieblingszahl ein, um hier rauszukommen: \")\n",
        "  user_input = int(user_input)\n",
        "\n",
        "  if user_input != 123:\n",
        "    continue\n",
        "  else:\n",
        "    print(\"Ja, gut geraten.\")\n",
        "    break\n",
        "\n",
        "print(\"Programm-Ende\")"
      ],
      "execution_count": null,
      "outputs": [
        {
          "output_type": "stream",
          "text": [
            "Geben Sie meine Lieblingszahl ein, um hier rauszukommen: 10\n",
            "Geben Sie meine Lieblingszahl ein, um hier rauszukommen: 123\n",
            "Ja, gut geraten.\n",
            "Programm-Ende\n"
          ],
          "name": "stdout"
        }
      ]
    },
    {
      "cell_type": "code",
      "metadata": {
        "colab": {
          "base_uri": "https://localhost:8080/"
        },
        "id": "zDggXGLiG2xP",
        "outputId": "00d67124-46a6-4385-cd43-a4a0f2d01566"
      },
      "source": [
        "import math \n",
        "\n",
        "user_input = 0\n",
        "\n",
        "while user_input <= 1:\n",
        "  user_input = input(\"Findet alle Primzahlen bis zur gegebenen Zahl. Gebe Ganzzahl größer 1 ein: \")\n",
        "  user_input = int(user_input)\n",
        "\n",
        "# Erstellen einer leeren Liste\n",
        "divider_list = []\n",
        "\n",
        "n = 2\n",
        "\n",
        "# Bis zur (abgerundeten) Wurzel der eingegebenen Zahl prüfen.\n",
        "while n <= math.floor(math.sqrt(user_input)):\n",
        "    if user_input % n == 0:\n",
        "        print(user_input, \"ist zum Beispiel durch\", n, \"teilbar.\")\n",
        "        # Liste mit dem gefundenen Teiler ergänzen\n",
        "        divider_list += [n]\n",
        "    # n hochzählen\n",
        "    n += 1\n",
        "\n",
        "if divider_list == []:\n",
        "  print(user_input, \"ist eine Primzahl.\")"
      ],
      "execution_count": null,
      "outputs": [
        {
          "output_type": "stream",
          "text": [
            "Findet alle Primzahlen bis zur gegebenen Zahl. Gebe Ganzzahl größer 1 ein: 5\n",
            "5 ist eine Primzahl.\n"
          ],
          "name": "stdout"
        }
      ]
    },
    {
      "cell_type": "markdown",
      "metadata": {
        "id": "AqtHluJ_nJ8f"
      },
      "source": [
        "**for**"
      ]
    },
    {
      "cell_type": "code",
      "metadata": {
        "colab": {
          "base_uri": "https://localhost:8080/"
        },
        "id": "4bqMVaTRHDmH",
        "outputId": "dc61c235-3e25-410c-f02f-9df5e1b7a7b7"
      },
      "source": [
        "meine_liste = [\"hallo welt\", \"wie geht's denn so?\", \"Wünsche noch nen schönen Tag\"]\n",
        "\n",
        "for listen_element in meine_liste:\n",
        "  print(listen_element)"
      ],
      "execution_count": null,
      "outputs": [
        {
          "output_type": "stream",
          "text": [
            "hallo welt\n",
            "wie geht's denn so?\n",
            "Wünsche noch nen schönen Tag\n"
          ],
          "name": "stdout"
        }
      ]
    },
    {
      "cell_type": "code",
      "metadata": {
        "colab": {
          "base_uri": "https://localhost:8080/"
        },
        "id": "oDNMLqAmKtoD",
        "outputId": "4fba466f-9cc9-48d3-c63a-51475167bd5b"
      },
      "source": [
        "print(\"Die restlichen Teiler lauten:\")\n",
        "\n",
        "for divider in divider_list:\n",
        "  print(user_input/divider)"
      ],
      "execution_count": null,
      "outputs": [
        {
          "output_type": "stream",
          "text": [
            "Die restlichen Teiler lauten:\n"
          ],
          "name": "stdout"
        }
      ]
    },
    {
      "cell_type": "code",
      "metadata": {
        "id": "B4BV4v_1MPYY"
      },
      "source": [
        ""
      ],
      "execution_count": null,
      "outputs": []
    },
    {
      "cell_type": "code",
      "metadata": {
        "colab": {
          "base_uri": "https://localhost:8080/"
        },
        "id": "2mtF2x6aMmgb",
        "outputId": "c5b78f69-4bdb-4987-9761-b7e11bd655a0"
      },
      "source": [
        "print(\"Loop with start 0, end <10, step 1:\")\n",
        "\n",
        "# range(stop)\n",
        "for i in range(10):\n",
        "  print(i)\n",
        "\n",
        "print(\"Next loop with start 5, end <15, step 2:\")\n",
        "\n",
        "# range(start, stop, step)\n",
        "for i in range(5, 15, 2):\n",
        "  print(i)\n",
        "\n",
        "print(\"Next loop with start 10, end >0, step -1:\")\n",
        "\n",
        "# range(start, stop, step)\n",
        "for i in range(10, 0, -1):\n",
        "  print(i)"
      ],
      "execution_count": null,
      "outputs": [
        {
          "output_type": "stream",
          "text": [
            "Loop with start 0, end <10, step 1:\n",
            "0\n",
            "1\n",
            "2\n",
            "3\n",
            "4\n",
            "5\n",
            "6\n",
            "7\n",
            "8\n",
            "9\n",
            "Next loop with start 5, end <15, step 2:\n",
            "5\n",
            "7\n",
            "9\n",
            "11\n",
            "13\n",
            "Next loop with start 10, end >0, step -1:\n",
            "10\n",
            "9\n",
            "8\n",
            "7\n",
            "6\n",
            "5\n",
            "4\n",
            "3\n",
            "2\n",
            "1\n"
          ],
          "name": "stdout"
        }
      ]
    },
    {
      "cell_type": "code",
      "metadata": {
        "colab": {
          "base_uri": "https://localhost:8080/"
        },
        "id": "61bC6j7TM_eO",
        "outputId": "d0dccfc4-659b-4922-fb07-d6ce6eadeb25"
      },
      "source": [
        "# stop-Zahl größer oder kleiner 5 setzen\n",
        "for i in range(1, 4):\n",
        "  print(i)\n",
        "  if i % 5 == 0:\n",
        "    break;\n",
        "else:\n",
        "  print(\"Schleife komplett durchlaufen\")"
      ],
      "execution_count": null,
      "outputs": [
        {
          "output_type": "stream",
          "text": [
            "1\n",
            "2\n",
            "3\n",
            "Schleife komplett durchlaufen\n"
          ],
          "name": "stdout"
        }
      ]
    },
    {
      "cell_type": "markdown",
      "metadata": {
        "id": "4mqt_JJoXANj"
      },
      "source": [
        "Zwei Listen $a$ und $b$ gegeben:\n",
        "\n",
        "> $\\sum_{i=1}^{m}\\sum_{j=1}^{n}a_i\\times b_j $\n"
      ]
    },
    {
      "cell_type": "code",
      "metadata": {
        "colab": {
          "base_uri": "https://localhost:8080/"
        },
        "id": "SJ_Cek6nWJxu",
        "outputId": "49efb980-1ba3-411a-e9de-460a0e7358c2"
      },
      "source": [
        "a = [1, 2, 1, 20]\n",
        "b = [10, 1, 10, 5, 6, 5]\n",
        "\n",
        "result = 0;\n",
        "\n",
        "for a_i in a:\n",
        "  for b_j in b: \n",
        "    result += a_i * b_j\n",
        "\n",
        "print(result)"
      ],
      "execution_count": null,
      "outputs": [
        {
          "output_type": "stream",
          "text": [
            "888\n"
          ],
          "name": "stdout"
        }
      ]
    },
    {
      "cell_type": "code",
      "metadata": {
        "colab": {
          "base_uri": "https://localhost:8080/"
        },
        "id": "91gXMG5wdh3y",
        "outputId": "3b9da2a5-e5ed-4c1a-99c4-5bfbe8b7c6b3"
      },
      "source": [
        "import math\n",
        "\n",
        "print(math.fsum(a) * math.fsum(b))"
      ],
      "execution_count": null,
      "outputs": [
        {
          "output_type": "stream",
          "text": [
            "888.0\n"
          ],
          "name": "stdout"
        }
      ]
    },
    {
      "cell_type": "code",
      "metadata": {
        "colab": {
          "base_uri": "https://localhost:8080/"
        },
        "id": "IL4ZXVO9ec8j",
        "outputId": "5874fac2-5023-40a2-c246-8b288be956c5"
      },
      "source": [
        "text = \"Sehr interessanter Text\"\n",
        "search = \"s\"\n",
        "counter = 0\n",
        "\n",
        "for s in text:\n",
        "  if s == search:\n",
        "    counter += 1\n",
        "\n",
        "print(search, \"wurde\", counter, \"mal gefunden\")\n",
        "\n",
        "# Formatierte Ausgabe, F-String: Alles innerhalb der geschweiften Klammern wird als Code evaluiert\n",
        "print(f\"{search} wurde {counter} mal gefunden\")"
      ],
      "execution_count": null,
      "outputs": [
        {
          "output_type": "stream",
          "text": [
            "s wurde 2 mal gefunden\n",
            "s wurde 2 mal gefunden\n"
          ],
          "name": "stdout"
        }
      ]
    },
    {
      "cell_type": "markdown",
      "metadata": {
        "id": "uaeSr24X18oz"
      },
      "source": [
        "# Grundoperationen für Listen\n"
      ]
    },
    {
      "cell_type": "code",
      "metadata": {
        "colab": {
          "base_uri": "https://localhost:8080/"
        },
        "id": "AZn0Tj0QrrGj",
        "outputId": "85d2f38c-9ded-483f-ec9b-6e07e445c291"
      },
      "source": [
        "list_a = [10, 20, 30]\n",
        "\n",
        "print(f\"Element Nummer 1: {list_a[1]}\")"
      ],
      "execution_count": null,
      "outputs": [
        {
          "output_type": "stream",
          "text": [
            "Element Nummer 1: 20\n"
          ],
          "name": "stdout"
        }
      ]
    },
    {
      "cell_type": "code",
      "metadata": {
        "colab": {
          "base_uri": "https://localhost:8080/"
        },
        "id": "9p6-JjQ6Ei1D",
        "outputId": "55358bfb-3267-470d-e5be-ab3a9346854e"
      },
      "source": [
        "list_a += [40, 50]\n",
        "\n",
        "print(f\"Letztes Element: {list_a[-1]}\")"
      ],
      "execution_count": null,
      "outputs": [
        {
          "output_type": "stream",
          "text": [
            "Letztes Element: 50\n"
          ],
          "name": "stdout"
        }
      ]
    },
    {
      "cell_type": "code",
      "metadata": {
        "colab": {
          "base_uri": "https://localhost:8080/"
        },
        "id": "pIPNuvjgEo62",
        "outputId": "71b55984-049a-4552-c5a3-631d138f471b"
      },
      "source": [
        "sequence_a = list_a[1:3]\n",
        "\n",
        "print(f\"Sequenz a: {sequence_a}\")"
      ],
      "execution_count": null,
      "outputs": [
        {
          "output_type": "stream",
          "text": [
            "Sequenz a: [20, 30]\n"
          ],
          "name": "stdout"
        }
      ]
    },
    {
      "cell_type": "code",
      "metadata": {
        "colab": {
          "base_uri": "https://localhost:8080/"
        },
        "id": "DgxxuqJDGCtp",
        "outputId": "117b42bc-5189-4579-edb6-1655d0837f44"
      },
      "source": [
        "sequence_a[0] = -1\n",
        "\n",
        "print(f\"Sequenz a: {sequence_a}\")\n",
        "print(f\"Liste a: {list_a}\")"
      ],
      "execution_count": null,
      "outputs": [
        {
          "output_type": "stream",
          "text": [
            "Sequenz a: [-1, 30]\n",
            "Liste a: [10, 20, 30, 40, 50]\n"
          ],
          "name": "stdout"
        }
      ]
    },
    {
      "cell_type": "code",
      "metadata": {
        "colab": {
          "base_uri": "https://localhost:8080/"
        },
        "id": "TiM6qFgjGuWg",
        "outputId": "bbe6d73a-fcc0-4ab0-f4aa-94c639ba348e"
      },
      "source": [
        "list_b = [\"Hallo\", \"Welt\", \"C\", \"HTML\", \"Python\"]\n",
        "sequence_b = list_b[1:3]\n",
        "\n",
        "sequence_b[0] = \"Du da\"\n",
        "\n",
        "print(f\"Sequenz b: {sequence_b}\")\n",
        "print(f\"Liste b: {list_b}\")"
      ],
      "execution_count": null,
      "outputs": [
        {
          "output_type": "stream",
          "text": [
            "Sequenz b: ['Du da', 'C']\n",
            "Liste b: ['Hallo', 'Welt', 'C', 'HTML', 'Python']\n"
          ],
          "name": "stdout"
        }
      ]
    },
    {
      "cell_type": "code",
      "metadata": {
        "colab": {
          "base_uri": "https://localhost:8080/"
        },
        "id": "zg_nBUf3NtOc",
        "outputId": "8bb47009-6104-43ce-9098-5f2391e28cc5"
      },
      "source": [
        "list_c = [0, 10, 20, 30, 40, 50, 60, 70, 80, 90, 100]\n",
        "sequence_c = list_c[0:-1:2]\n",
        "\n",
        "print(sequence_c)"
      ],
      "execution_count": null,
      "outputs": [
        {
          "output_type": "stream",
          "text": [
            "[0, 20, 40, 60, 80]\n"
          ],
          "name": "stdout"
        }
      ]
    },
    {
      "cell_type": "code",
      "metadata": {
        "colab": {
          "base_uri": "https://localhost:8080/"
        },
        "id": "hzjok1iJH9QF",
        "outputId": "7a3b1ff6-e69b-485a-e61b-b432e9aae79a"
      },
      "source": [
        "#Prüfen, ob ein bestimmter Wert in einer Liste vorhanden ist\n",
        "\"Welt\" in list_b"
      ],
      "execution_count": null,
      "outputs": [
        {
          "output_type": "execute_result",
          "data": {
            "text/plain": [
              "True"
            ]
          },
          "metadata": {
            "tags": []
          },
          "execution_count": 68
        }
      ]
    },
    {
      "cell_type": "code",
      "metadata": {
        "colab": {
          "base_uri": "https://localhost:8080/"
        },
        "id": "FNuCm6xpLvyY",
        "outputId": "fb46ea53-c1a3-4663-98d9-a31572cc3e75"
      },
      "source": [
        "# Oder nicht vorhanden ist\n",
        "\"Welt\" not in list_b"
      ],
      "execution_count": null,
      "outputs": [
        {
          "output_type": "execute_result",
          "data": {
            "text/plain": [
              "False"
            ]
          },
          "metadata": {
            "tags": []
          },
          "execution_count": 69
        }
      ]
    },
    {
      "cell_type": "code",
      "metadata": {
        "colab": {
          "base_uri": "https://localhost:8080/"
        },
        "id": "En1IVB_BMkoY",
        "outputId": "854de8e3-df57-4879-92e0-43c3989a3791"
      },
      "source": [
        "if \"Welt\" not in list_b:\n",
        "  print(\"Hey, Du hast vergessen die Welt in Deine Grüße mitaufzunehmen!\")\n",
        "else:\n",
        "  print(\"Hi\")"
      ],
      "execution_count": null,
      "outputs": [
        {
          "output_type": "stream",
          "text": [
            "Hi\n"
          ],
          "name": "stdout"
        }
      ]
    },
    {
      "cell_type": "code",
      "metadata": {
        "colab": {
          "base_uri": "https://localhost:8080/"
        },
        "id": "n7Xe1L-jMwJ2",
        "outputId": "8c86f64e-f56e-427e-fd0c-db2d445b1ca9"
      },
      "source": [
        "# Die Länge einer Liste zurückgeben\n",
        "if len(list_c) > 0:\n",
        "  print(list_c)"
      ],
      "execution_count": null,
      "outputs": [
        {
          "output_type": "stream",
          "text": [
            "[0, 10, 20, 30, 40, 50, 60, 70, 80, 90, 100]\n"
          ],
          "name": "stdout"
        }
      ]
    },
    {
      "cell_type": "code",
      "metadata": {
        "colab": {
          "base_uri": "https://localhost:8080/"
        },
        "id": "HkiIKrwq3jmb",
        "outputId": "239c004e-99e7-4af6-9cd5-c1c5aeba95c9"
      },
      "source": [
        "# Größten und kleinsten Wert einer Liste zurückgeben (falls Ordnungsrelation für den Datentyp definiert ist)\n",
        "print(max(list_c))"
      ],
      "execution_count": null,
      "outputs": [
        {
          "output_type": "stream",
          "text": [
            "100\n"
          ],
          "name": "stdout"
        }
      ]
    },
    {
      "cell_type": "code",
      "metadata": {
        "colab": {
          "base_uri": "https://localhost:8080/"
        },
        "id": "zVp86RR53_5w",
        "outputId": "82030587-72b4-4152-a7f7-4cb4b42c2766"
      },
      "source": [
        "list_d = [\"Hallo\", \"Welt\", \"aal\", \"Aal\", \"Auto\", \"Auto\", \"Fahrrad\"]\n",
        "print(min(list_d))"
      ],
      "execution_count": null,
      "outputs": [
        {
          "output_type": "stream",
          "text": [
            "Aal\n"
          ],
          "name": "stdout"
        }
      ]
    },
    {
      "cell_type": "code",
      "metadata": {
        "colab": {
          "base_uri": "https://localhost:8080/"
        },
        "id": "vXhsjMDm4Hvl",
        "outputId": "97218412-8ce5-40af-86a4-9833076f8e9e"
      },
      "source": [
        "# Erstes Vorkommen eines bestimmten Elements\n",
        "print(list_d.index(\"Auto\"))"
      ],
      "execution_count": null,
      "outputs": [
        {
          "output_type": "stream",
          "text": [
            "4\n"
          ],
          "name": "stdout"
        }
      ]
    },
    {
      "cell_type": "code",
      "metadata": {
        "colab": {
          "base_uri": "https://localhost:8080/"
        },
        "id": "YwMGlhhU4sI8",
        "outputId": "0daf8cda-d188-4c3b-9a56-1661f543bc29"
      },
      "source": [
        "# Gesamtzahl der Vorkommen\n",
        "print(list_d.count(\"Auto\"))"
      ],
      "execution_count": null,
      "outputs": [
        {
          "output_type": "stream",
          "text": [
            "2\n"
          ],
          "name": "stdout"
        }
      ]
    },
    {
      "cell_type": "code",
      "metadata": {
        "colab": {
          "base_uri": "https://localhost:8080/"
        },
        "id": "AW4Hgpb646lj",
        "outputId": "755bbe8a-9c1d-45f4-df7a-a38849265e4b"
      },
      "source": [
        "import math\n",
        "\n",
        "# modulname.funktionsname(argument)\n",
        "print(math.cos(0))"
      ],
      "execution_count": null,
      "outputs": [
        {
          "output_type": "stream",
          "text": [
            "1.0\n"
          ],
          "name": "stdout"
        }
      ]
    },
    {
      "cell_type": "code",
      "metadata": {
        "colab": {
          "base_uri": "https://localhost:8080/"
        },
        "id": "kjtYhmUOA33Z",
        "outputId": "8c1b16be-7ea8-4b62-f535-c6ae2c17609d"
      },
      "source": [
        "# Die Funktion index operiert auf der Liste list_d\n",
        "print(list_d.index(\"aal\"))"
      ],
      "execution_count": null,
      "outputs": [
        {
          "output_type": "stream",
          "text": [
            "2\n"
          ],
          "name": "stdout"
        }
      ]
    },
    {
      "cell_type": "markdown",
      "metadata": {
        "id": "CWEa-ah9MuSM"
      },
      "source": [
        "[Methoden von Listenobjekten](https://docs.python.org/3/tutorial/datastructures.html)"
      ]
    },
    {
      "cell_type": "code",
      "metadata": {
        "colab": {
          "base_uri": "https://localhost:8080/"
        },
        "id": "ANBAXpeeLUA0",
        "outputId": "68e94bc0-ca33-4a44-d233-a8d2e66ac047"
      },
      "source": [
        "# Einzelne Elemente hinzufügen\n",
        "list_d.append(\"Weiteres Auto\")\n",
        "list_d.append(\"Haus\")\n",
        "\n",
        "print(list_d)"
      ],
      "execution_count": null,
      "outputs": [
        {
          "output_type": "stream",
          "text": [
            "['Hallo', 'Welt', 'aal', 'Aal', 'Auto', 'Auto', 'Fahrrad', 'Weiteres Auto', 'Haus']\n"
          ],
          "name": "stdout"
        }
      ]
    },
    {
      "cell_type": "markdown",
      "metadata": {
        "id": "WwTUBpaz5yi2"
      },
      "source": [
        "# Mutable und immutable Objekte"
      ]
    },
    {
      "cell_type": "code",
      "metadata": {
        "colab": {
          "base_uri": "https://localhost:8080/"
        },
        "id": "QRBEgWqv548c",
        "outputId": "7cb8ea88-2b38-435b-daa5-961b3e5986fd"
      },
      "source": [
        "# Strings sind immutabel\n",
        "variable_a = \"Auto\"\n",
        "variable_b = variable_a\n",
        "\n",
        "\"\"\"\n",
        "Änderung führt zu einem neuen String-Objekt. \n",
        "variable_a zeigt auf das neue Objekt mit dem Wert \"Autokauf\"\n",
        "variable_b zeigt immer noch auf das alte Objekt.\n",
        "\"\"\"\n",
        "variable_a += \"kauf\"\n",
        "print(\"variable_a:\", variable_a)\n",
        "print(\"variable_b:\", variable_b)\n"
      ],
      "execution_count": null,
      "outputs": [
        {
          "output_type": "stream",
          "text": [
            "variable_a: Autokauf\n",
            "variable_b: Auto\n"
          ],
          "name": "stdout"
        }
      ]
    },
    {
      "cell_type": "code",
      "metadata": {
        "colab": {
          "base_uri": "https://localhost:8080/"
        },
        "id": "3uG8RKMA6USK",
        "outputId": "4f54b9cc-93b9-4e80-bb33-4f52f5070f2d"
      },
      "source": [
        "# Listen sind mutabel\n",
        "variable_a = [\"Auto\"]\n",
        "variable_b = variable_a\n",
        "\n",
        "\"\"\" \n",
        "Änderung wird an Liste durchgeführt. \n",
        "Sowohl variable_a als auch variable_b zeigen\n",
        "noch auf das Original-Objekt\n",
        "\"\"\"\n",
        "variable_a += [\"kauf\"]\n",
        "print(\"variable_a:\", variable_a)\n",
        "print(\"variable_b:\", variable_b)"
      ],
      "execution_count": null,
      "outputs": [
        {
          "output_type": "stream",
          "text": [
            "variable_a: ['Auto', 'kauf']\n",
            "variable_b: ['Auto', 'kauf']\n"
          ],
          "name": "stdout"
        }
      ]
    },
    {
      "cell_type": "code",
      "metadata": {
        "id": "LRUJytAH6o3u"
      },
      "source": [
        ""
      ],
      "execution_count": null,
      "outputs": []
    }
  ]
}